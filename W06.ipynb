{
 "cells": [
  {
   "cell_type": "code",
   "execution_count": 1,
   "metadata": {},
   "outputs": [],
   "source": [
    "#import libraries\n",
    "import pandas as pd\n",
    "import numpy as np \n",
    "import matplotlib.pyplot as plt \n",
    "from sklearn.decomposition import PCA\n",
    "from sklearn.cluster import KMeans\n",
    "from sklearn.model_selection import train_test_split\n",
    "from sklearn.linear_model import LogisticRegression\n",
    "from sklearn.tree import DecisionTreeClassifier\n",
    "from sklearn.ensemble import RandomForestClassifier\n",
    "from sklearn.model_selection import GridSearchCV\n",
    "from sklearn.model_selection import cross_val_score\n",
    "from sklearn.metrics import classification_report\n",
    "from sklearn.metrics import confusion_matrix\n",
    "from sklearn.metrics import make_scorer\n",
    "from sklearn.metrics import f1_score"
   ]
  },
  {
   "cell_type": "markdown",
   "metadata": {},
   "source": [
    "# Exercise 1"
   ]
  },
  {
   "cell_type": "code",
   "execution_count": 2,
   "metadata": {
    "scrolled": false
   },
   "outputs": [
    {
     "data": {
      "text/html": [
       "<div>\n",
       "<style scoped>\n",
       "    .dataframe tbody tr th:only-of-type {\n",
       "        vertical-align: middle;\n",
       "    }\n",
       "\n",
       "    .dataframe tbody tr th {\n",
       "        vertical-align: top;\n",
       "    }\n",
       "\n",
       "    .dataframe thead th {\n",
       "        text-align: right;\n",
       "    }\n",
       "</style>\n",
       "<table border=\"1\" class=\"dataframe\">\n",
       "  <thead>\n",
       "    <tr style=\"text-align: right;\">\n",
       "      <th></th>\n",
       "      <th>LevelOfTrust</th>\n",
       "      <th>ScanTimeInSeconds</th>\n",
       "      <th>TotalBasketValue</th>\n",
       "      <th>ScannedProducts</th>\n",
       "      <th>CountOfVoidedScans</th>\n",
       "      <th>ActivateWithoutScan</th>\n",
       "      <th>ModifiedQuantities</th>\n",
       "      <th>Fraud</th>\n",
       "    </tr>\n",
       "  </thead>\n",
       "  <tbody>\n",
       "    <tr>\n",
       "      <th>0</th>\n",
       "      <td>2</td>\n",
       "      <td>1401</td>\n",
       "      <td>58.83</td>\n",
       "      <td>17</td>\n",
       "      <td>2</td>\n",
       "      <td>7</td>\n",
       "      <td>1</td>\n",
       "      <td>0</td>\n",
       "    </tr>\n",
       "    <tr>\n",
       "      <th>1</th>\n",
       "      <td>2</td>\n",
       "      <td>655</td>\n",
       "      <td>57.20</td>\n",
       "      <td>6</td>\n",
       "      <td>7</td>\n",
       "      <td>1</td>\n",
       "      <td>4</td>\n",
       "      <td>0</td>\n",
       "    </tr>\n",
       "    <tr>\n",
       "      <th>2</th>\n",
       "      <td>4</td>\n",
       "      <td>770</td>\n",
       "      <td>36.00</td>\n",
       "      <td>28</td>\n",
       "      <td>11</td>\n",
       "      <td>3</td>\n",
       "      <td>4</td>\n",
       "      <td>0</td>\n",
       "    </tr>\n",
       "    <tr>\n",
       "      <th>3</th>\n",
       "      <td>5</td>\n",
       "      <td>272</td>\n",
       "      <td>89.76</td>\n",
       "      <td>1</td>\n",
       "      <td>4</td>\n",
       "      <td>0</td>\n",
       "      <td>2</td>\n",
       "      <td>0</td>\n",
       "    </tr>\n",
       "    <tr>\n",
       "      <th>4</th>\n",
       "      <td>6</td>\n",
       "      <td>1511</td>\n",
       "      <td>8.75</td>\n",
       "      <td>15</td>\n",
       "      <td>0</td>\n",
       "      <td>7</td>\n",
       "      <td>4</td>\n",
       "      <td>0</td>\n",
       "    </tr>\n",
       "    <tr>\n",
       "      <th>...</th>\n",
       "      <td>...</td>\n",
       "      <td>...</td>\n",
       "      <td>...</td>\n",
       "      <td>...</td>\n",
       "      <td>...</td>\n",
       "      <td>...</td>\n",
       "      <td>...</td>\n",
       "      <td>...</td>\n",
       "    </tr>\n",
       "    <tr>\n",
       "      <th>299995</th>\n",
       "      <td>6</td>\n",
       "      <td>900</td>\n",
       "      <td>31.50</td>\n",
       "      <td>15</td>\n",
       "      <td>1</td>\n",
       "      <td>9</td>\n",
       "      <td>2</td>\n",
       "      <td>0</td>\n",
       "    </tr>\n",
       "    <tr>\n",
       "      <th>299996</th>\n",
       "      <td>4</td>\n",
       "      <td>1395</td>\n",
       "      <td>23.02</td>\n",
       "      <td>11</td>\n",
       "      <td>1</td>\n",
       "      <td>6</td>\n",
       "      <td>0</td>\n",
       "      <td>0</td>\n",
       "    </tr>\n",
       "    <tr>\n",
       "      <th>299997</th>\n",
       "      <td>4</td>\n",
       "      <td>131</td>\n",
       "      <td>87.75</td>\n",
       "      <td>27</td>\n",
       "      <td>1</td>\n",
       "      <td>3</td>\n",
       "      <td>0</td>\n",
       "      <td>0</td>\n",
       "    </tr>\n",
       "    <tr>\n",
       "      <th>299998</th>\n",
       "      <td>2</td>\n",
       "      <td>1724</td>\n",
       "      <td>95.33</td>\n",
       "      <td>20</td>\n",
       "      <td>10</td>\n",
       "      <td>8</td>\n",
       "      <td>3</td>\n",
       "      <td>0</td>\n",
       "    </tr>\n",
       "    <tr>\n",
       "      <th>299999</th>\n",
       "      <td>6</td>\n",
       "      <td>1206</td>\n",
       "      <td>11.49</td>\n",
       "      <td>22</td>\n",
       "      <td>8</td>\n",
       "      <td>3</td>\n",
       "      <td>3</td>\n",
       "      <td>0</td>\n",
       "    </tr>\n",
       "  </tbody>\n",
       "</table>\n",
       "<p>300000 rows × 8 columns</p>\n",
       "</div>"
      ],
      "text/plain": [
       "        LevelOfTrust  ScanTimeInSeconds  TotalBasketValue  ScannedProducts  \\\n",
       "0                  2               1401             58.83               17   \n",
       "1                  2                655             57.20                6   \n",
       "2                  4                770             36.00               28   \n",
       "3                  5                272             89.76                1   \n",
       "4                  6               1511              8.75               15   \n",
       "...              ...                ...               ...              ...   \n",
       "299995             6                900             31.50               15   \n",
       "299996             4               1395             23.02               11   \n",
       "299997             4                131             87.75               27   \n",
       "299998             2               1724             95.33               20   \n",
       "299999             6               1206             11.49               22   \n",
       "\n",
       "        CountOfVoidedScans  ActivateWithoutScan  ModifiedQuantities  Fraud  \n",
       "0                        2                    7                   1      0  \n",
       "1                        7                    1                   4      0  \n",
       "2                       11                    3                   4      0  \n",
       "3                        4                    0                   2      0  \n",
       "4                        0                    7                   4      0  \n",
       "...                    ...                  ...                 ...    ...  \n",
       "299995                   1                    9                   2      0  \n",
       "299996                   1                    6                   0      0  \n",
       "299997                   1                    3                   0      0  \n",
       "299998                  10                    8                   3      0  \n",
       "299999                   8                    3                   3      0  \n",
       "\n",
       "[300000 rows x 8 columns]"
      ]
     },
     "execution_count": 2,
     "metadata": {},
     "output_type": "execute_result"
    }
   ],
   "source": [
    "#Import the data set \"W06_training.txt“\n",
    "df = pd.read_csv('W06_training.txt', delimiter=\";\")\n",
    "df"
   ]
  },
  {
   "cell_type": "code",
   "execution_count": 3,
   "metadata": {},
   "outputs": [
    {
     "data": {
      "text/html": [
       "<div>\n",
       "<style scoped>\n",
       "    .dataframe tbody tr th:only-of-type {\n",
       "        vertical-align: middle;\n",
       "    }\n",
       "\n",
       "    .dataframe tbody tr th {\n",
       "        vertical-align: top;\n",
       "    }\n",
       "\n",
       "    .dataframe thead th {\n",
       "        text-align: right;\n",
       "    }\n",
       "</style>\n",
       "<table border=\"1\" class=\"dataframe\">\n",
       "  <thead>\n",
       "    <tr style=\"text-align: right;\">\n",
       "      <th></th>\n",
       "      <th>LevelOfTrust</th>\n",
       "      <th>ScanTimeInSeconds</th>\n",
       "      <th>TotalBasketValue</th>\n",
       "      <th>ScannedProducts</th>\n",
       "      <th>CountOfVoidedScans</th>\n",
       "      <th>ActivateWithoutScan</th>\n",
       "      <th>ModifiedQuantities</th>\n",
       "    </tr>\n",
       "  </thead>\n",
       "  <tbody>\n",
       "    <tr>\n",
       "      <th>0</th>\n",
       "      <td>2</td>\n",
       "      <td>1401</td>\n",
       "      <td>58.83</td>\n",
       "      <td>17</td>\n",
       "      <td>2</td>\n",
       "      <td>7</td>\n",
       "      <td>1</td>\n",
       "    </tr>\n",
       "    <tr>\n",
       "      <th>1</th>\n",
       "      <td>2</td>\n",
       "      <td>655</td>\n",
       "      <td>57.20</td>\n",
       "      <td>6</td>\n",
       "      <td>7</td>\n",
       "      <td>1</td>\n",
       "      <td>4</td>\n",
       "    </tr>\n",
       "    <tr>\n",
       "      <th>2</th>\n",
       "      <td>4</td>\n",
       "      <td>770</td>\n",
       "      <td>36.00</td>\n",
       "      <td>28</td>\n",
       "      <td>11</td>\n",
       "      <td>3</td>\n",
       "      <td>4</td>\n",
       "    </tr>\n",
       "    <tr>\n",
       "      <th>3</th>\n",
       "      <td>5</td>\n",
       "      <td>272</td>\n",
       "      <td>89.76</td>\n",
       "      <td>1</td>\n",
       "      <td>4</td>\n",
       "      <td>0</td>\n",
       "      <td>2</td>\n",
       "    </tr>\n",
       "    <tr>\n",
       "      <th>4</th>\n",
       "      <td>6</td>\n",
       "      <td>1511</td>\n",
       "      <td>8.75</td>\n",
       "      <td>15</td>\n",
       "      <td>0</td>\n",
       "      <td>7</td>\n",
       "      <td>4</td>\n",
       "    </tr>\n",
       "    <tr>\n",
       "      <th>...</th>\n",
       "      <td>...</td>\n",
       "      <td>...</td>\n",
       "      <td>...</td>\n",
       "      <td>...</td>\n",
       "      <td>...</td>\n",
       "      <td>...</td>\n",
       "      <td>...</td>\n",
       "    </tr>\n",
       "    <tr>\n",
       "      <th>299995</th>\n",
       "      <td>6</td>\n",
       "      <td>900</td>\n",
       "      <td>31.50</td>\n",
       "      <td>15</td>\n",
       "      <td>1</td>\n",
       "      <td>9</td>\n",
       "      <td>2</td>\n",
       "    </tr>\n",
       "    <tr>\n",
       "      <th>299996</th>\n",
       "      <td>4</td>\n",
       "      <td>1395</td>\n",
       "      <td>23.02</td>\n",
       "      <td>11</td>\n",
       "      <td>1</td>\n",
       "      <td>6</td>\n",
       "      <td>0</td>\n",
       "    </tr>\n",
       "    <tr>\n",
       "      <th>299997</th>\n",
       "      <td>4</td>\n",
       "      <td>131</td>\n",
       "      <td>87.75</td>\n",
       "      <td>27</td>\n",
       "      <td>1</td>\n",
       "      <td>3</td>\n",
       "      <td>0</td>\n",
       "    </tr>\n",
       "    <tr>\n",
       "      <th>299998</th>\n",
       "      <td>2</td>\n",
       "      <td>1724</td>\n",
       "      <td>95.33</td>\n",
       "      <td>20</td>\n",
       "      <td>10</td>\n",
       "      <td>8</td>\n",
       "      <td>3</td>\n",
       "    </tr>\n",
       "    <tr>\n",
       "      <th>299999</th>\n",
       "      <td>6</td>\n",
       "      <td>1206</td>\n",
       "      <td>11.49</td>\n",
       "      <td>22</td>\n",
       "      <td>8</td>\n",
       "      <td>3</td>\n",
       "      <td>3</td>\n",
       "    </tr>\n",
       "  </tbody>\n",
       "</table>\n",
       "<p>300000 rows × 7 columns</p>\n",
       "</div>"
      ],
      "text/plain": [
       "        LevelOfTrust  ScanTimeInSeconds  TotalBasketValue  ScannedProducts  \\\n",
       "0                  2               1401             58.83               17   \n",
       "1                  2                655             57.20                6   \n",
       "2                  4                770             36.00               28   \n",
       "3                  5                272             89.76                1   \n",
       "4                  6               1511              8.75               15   \n",
       "...              ...                ...               ...              ...   \n",
       "299995             6                900             31.50               15   \n",
       "299996             4               1395             23.02               11   \n",
       "299997             4                131             87.75               27   \n",
       "299998             2               1724             95.33               20   \n",
       "299999             6               1206             11.49               22   \n",
       "\n",
       "        CountOfVoidedScans  ActivateWithoutScan  ModifiedQuantities  \n",
       "0                        2                    7                   1  \n",
       "1                        7                    1                   4  \n",
       "2                       11                    3                   4  \n",
       "3                        4                    0                   2  \n",
       "4                        0                    7                   4  \n",
       "...                    ...                  ...                 ...  \n",
       "299995                   1                    9                   2  \n",
       "299996                   1                    6                   0  \n",
       "299997                   1                    3                   0  \n",
       "299998                  10                    8                   3  \n",
       "299999                   8                    3                   3  \n",
       "\n",
       "[300000 rows x 7 columns]"
      ]
     },
     "execution_count": 3,
     "metadata": {},
     "output_type": "execute_result"
    }
   ],
   "source": [
    "#Use only the first 7 columns (i.e. ignore the „Fraud“ column for now)\n",
    "y = df['Fraud']\n",
    "df = df.drop(columns='Fraud')\n",
    "df"
   ]
  },
  {
   "cell_type": "code",
   "execution_count": 4,
   "metadata": {
    "scrolled": true
   },
   "outputs": [
    {
     "data": {
      "text/html": [
       "<div>\n",
       "<style scoped>\n",
       "    .dataframe tbody tr th:only-of-type {\n",
       "        vertical-align: middle;\n",
       "    }\n",
       "\n",
       "    .dataframe tbody tr th {\n",
       "        vertical-align: top;\n",
       "    }\n",
       "\n",
       "    .dataframe thead th {\n",
       "        text-align: right;\n",
       "    }\n",
       "</style>\n",
       "<table border=\"1\" class=\"dataframe\">\n",
       "  <thead>\n",
       "    <tr style=\"text-align: right;\">\n",
       "      <th></th>\n",
       "      <th>LevelOfTrust</th>\n",
       "      <th>ScanTimeInSeconds</th>\n",
       "      <th>TotalBasketValue</th>\n",
       "      <th>ScannedProducts</th>\n",
       "      <th>CountOfVoidedScans</th>\n",
       "      <th>ActivateWithoutScan</th>\n",
       "      <th>ModifiedQuantities</th>\n",
       "    </tr>\n",
       "  </thead>\n",
       "  <tbody>\n",
       "    <tr>\n",
       "      <th>0</th>\n",
       "      <td>0.333333</td>\n",
       "      <td>0.729308</td>\n",
       "      <td>0.560713</td>\n",
       "      <td>0.566667</td>\n",
       "      <td>0.181818</td>\n",
       "      <td>0.7</td>\n",
       "      <td>0.2</td>\n",
       "    </tr>\n",
       "    <tr>\n",
       "      <th>1</th>\n",
       "      <td>0.333333</td>\n",
       "      <td>0.340968</td>\n",
       "      <td>0.545177</td>\n",
       "      <td>0.200000</td>\n",
       "      <td>0.636364</td>\n",
       "      <td>0.1</td>\n",
       "      <td>0.8</td>\n",
       "    </tr>\n",
       "    <tr>\n",
       "      <th>2</th>\n",
       "      <td>0.666667</td>\n",
       "      <td>0.400833</td>\n",
       "      <td>0.343119</td>\n",
       "      <td>0.933333</td>\n",
       "      <td>1.000000</td>\n",
       "      <td>0.3</td>\n",
       "      <td>0.8</td>\n",
       "    </tr>\n",
       "    <tr>\n",
       "      <th>3</th>\n",
       "      <td>0.833333</td>\n",
       "      <td>0.141593</td>\n",
       "      <td>0.855509</td>\n",
       "      <td>0.033333</td>\n",
       "      <td>0.363636</td>\n",
       "      <td>0.0</td>\n",
       "      <td>0.4</td>\n",
       "    </tr>\n",
       "    <tr>\n",
       "      <th>4</th>\n",
       "      <td>1.000000</td>\n",
       "      <td>0.786569</td>\n",
       "      <td>0.083397</td>\n",
       "      <td>0.500000</td>\n",
       "      <td>0.000000</td>\n",
       "      <td>0.7</td>\n",
       "      <td>0.8</td>\n",
       "    </tr>\n",
       "    <tr>\n",
       "      <th>...</th>\n",
       "      <td>...</td>\n",
       "      <td>...</td>\n",
       "      <td>...</td>\n",
       "      <td>...</td>\n",
       "      <td>...</td>\n",
       "      <td>...</td>\n",
       "      <td>...</td>\n",
       "    </tr>\n",
       "    <tr>\n",
       "      <th>299995</th>\n",
       "      <td>1.000000</td>\n",
       "      <td>0.468506</td>\n",
       "      <td>0.300229</td>\n",
       "      <td>0.500000</td>\n",
       "      <td>0.090909</td>\n",
       "      <td>0.9</td>\n",
       "      <td>0.4</td>\n",
       "    </tr>\n",
       "    <tr>\n",
       "      <th>299996</th>\n",
       "      <td>0.666667</td>\n",
       "      <td>0.726184</td>\n",
       "      <td>0.219405</td>\n",
       "      <td>0.366667</td>\n",
       "      <td>0.090909</td>\n",
       "      <td>0.6</td>\n",
       "      <td>0.0</td>\n",
       "    </tr>\n",
       "    <tr>\n",
       "      <th>299997</th>\n",
       "      <td>0.666667</td>\n",
       "      <td>0.068194</td>\n",
       "      <td>0.836352</td>\n",
       "      <td>0.900000</td>\n",
       "      <td>0.090909</td>\n",
       "      <td>0.3</td>\n",
       "      <td>0.0</td>\n",
       "    </tr>\n",
       "    <tr>\n",
       "      <th>299998</th>\n",
       "      <td>0.333333</td>\n",
       "      <td>0.897449</td>\n",
       "      <td>0.908597</td>\n",
       "      <td>0.666667</td>\n",
       "      <td>0.909091</td>\n",
       "      <td>0.8</td>\n",
       "      <td>0.6</td>\n",
       "    </tr>\n",
       "    <tr>\n",
       "      <th>299999</th>\n",
       "      <td>1.000000</td>\n",
       "      <td>0.627798</td>\n",
       "      <td>0.109512</td>\n",
       "      <td>0.733333</td>\n",
       "      <td>0.727273</td>\n",
       "      <td>0.3</td>\n",
       "      <td>0.6</td>\n",
       "    </tr>\n",
       "  </tbody>\n",
       "</table>\n",
       "<p>300000 rows × 7 columns</p>\n",
       "</div>"
      ],
      "text/plain": [
       "        LevelOfTrust  ScanTimeInSeconds  TotalBasketValue  ScannedProducts  \\\n",
       "0           0.333333           0.729308          0.560713         0.566667   \n",
       "1           0.333333           0.340968          0.545177         0.200000   \n",
       "2           0.666667           0.400833          0.343119         0.933333   \n",
       "3           0.833333           0.141593          0.855509         0.033333   \n",
       "4           1.000000           0.786569          0.083397         0.500000   \n",
       "...              ...                ...               ...              ...   \n",
       "299995      1.000000           0.468506          0.300229         0.500000   \n",
       "299996      0.666667           0.726184          0.219405         0.366667   \n",
       "299997      0.666667           0.068194          0.836352         0.900000   \n",
       "299998      0.333333           0.897449          0.908597         0.666667   \n",
       "299999      1.000000           0.627798          0.109512         0.733333   \n",
       "\n",
       "        CountOfVoidedScans  ActivateWithoutScan  ModifiedQuantities  \n",
       "0                 0.181818                  0.7                 0.2  \n",
       "1                 0.636364                  0.1                 0.8  \n",
       "2                 1.000000                  0.3                 0.8  \n",
       "3                 0.363636                  0.0                 0.4  \n",
       "4                 0.000000                  0.7                 0.8  \n",
       "...                    ...                  ...                 ...  \n",
       "299995            0.090909                  0.9                 0.4  \n",
       "299996            0.090909                  0.6                 0.0  \n",
       "299997            0.090909                  0.3                 0.0  \n",
       "299998            0.909091                  0.8                 0.6  \n",
       "299999            0.727273                  0.3                 0.6  \n",
       "\n",
       "[300000 rows x 7 columns]"
      ]
     },
     "execution_count": 4,
     "metadata": {},
     "output_type": "execute_result"
    }
   ],
   "source": [
    "#Divide each column by its maximum value, so that each each column is scaled between 0 and 1\n",
    "df_scaled = df.apply(lambda x: x / x.max())\n",
    "df_scaled"
   ]
  },
  {
   "cell_type": "code",
   "execution_count": 5,
   "metadata": {},
   "outputs": [],
   "source": [
    "#Perform a principal component analysis. Report the explained variance ratio and \n",
    "#the components of the first two principal components\n",
    "\n",
    "pca = PCA()\n",
    "pca.fit(df_scaled)\n",
    "evr = pca.explained_variance_ratio_"
   ]
  },
  {
   "cell_type": "code",
   "execution_count": 6,
   "metadata": {},
   "outputs": [
    {
     "data": {
      "text/html": [
       "<div>\n",
       "<style scoped>\n",
       "    .dataframe tbody tr th:only-of-type {\n",
       "        vertical-align: middle;\n",
       "    }\n",
       "\n",
       "    .dataframe tbody tr th {\n",
       "        vertical-align: top;\n",
       "    }\n",
       "\n",
       "    .dataframe thead th {\n",
       "        text-align: right;\n",
       "    }\n",
       "</style>\n",
       "<table border=\"1\" class=\"dataframe\">\n",
       "  <thead>\n",
       "    <tr style=\"text-align: right;\">\n",
       "      <th></th>\n",
       "      <th>Explained variance ratio</th>\n",
       "    </tr>\n",
       "  </thead>\n",
       "  <tbody>\n",
       "    <tr>\n",
       "      <th>1st</th>\n",
       "      <td>0.184881</td>\n",
       "    </tr>\n",
       "    <tr>\n",
       "      <th>2nd</th>\n",
       "      <td>0.158641</td>\n",
       "    </tr>\n",
       "  </tbody>\n",
       "</table>\n",
       "</div>"
      ],
      "text/plain": [
       "     Explained variance ratio\n",
       "1st                  0.184881\n",
       "2nd                  0.158641"
      ]
     },
     "execution_count": 6,
     "metadata": {},
     "output_type": "execute_result"
    }
   ],
   "source": [
    "pd.DataFrame(evr[:2], columns=['Explained variance ratio'], index=['1st', '2nd'])"
   ]
  },
  {
   "cell_type": "code",
   "execution_count": 7,
   "metadata": {
    "scrolled": true
   },
   "outputs": [
    {
     "data": {
      "image/png": "[encoded data removed]",
      "text/plain": [
       "<Figure size 720x432 with 1 Axes>"
      ]
     },
     "metadata": {
      "needs_background": "light"
     },
     "output_type": "display_data"
    }
   ],
   "source": [
    "cum_explained = np.cumsum(pca.explained_variance_ratio_)\n",
    "plt.figure(figsize=(10,6))\n",
    "plt.plot(range(1,len(pca.explained_variance_ratio_)+1),cum_explained)\n",
    "plt.xlabel(\"Number of principal components\")\n",
    "plt.ylabel(\"Share of explained variance\")\n",
    "plt.grid()\n",
    "plt.show()"
   ]
  },
  {
   "cell_type": "code",
   "execution_count": 8,
   "metadata": {},
   "outputs": [
    {
     "name": "stdout",
     "output_type": "stream",
     "text": [
      "Components of the first two principal components\n"
     ]
    },
    {
     "data": {
      "text/html": [
       "<div>\n",
       "<style scoped>\n",
       "    .dataframe tbody tr th:only-of-type {\n",
       "        vertical-align: middle;\n",
       "    }\n",
       "\n",
       "    .dataframe tbody tr th {\n",
       "        vertical-align: top;\n",
       "    }\n",
       "\n",
       "    .dataframe thead th {\n",
       "        text-align: right;\n",
       "    }\n",
       "</style>\n",
       "<table border=\"1\" class=\"dataframe\">\n",
       "  <thead>\n",
       "    <tr style=\"text-align: right;\">\n",
       "      <th></th>\n",
       "      <th>LevelOfTrust</th>\n",
       "      <th>ScanTimeInSeconds</th>\n",
       "      <th>TotalBasketValue</th>\n",
       "      <th>ScannedProducts</th>\n",
       "      <th>CountOfVoidedScans</th>\n",
       "      <th>ActivateWithoutScan</th>\n",
       "      <th>ModifiedQuantities</th>\n",
       "    </tr>\n",
       "  </thead>\n",
       "  <tbody>\n",
       "    <tr>\n",
       "      <th>1st</th>\n",
       "      <td>-0.001364</td>\n",
       "      <td>0.000306</td>\n",
       "      <td>0.00272</td>\n",
       "      <td>-0.010662</td>\n",
       "      <td>0.002007</td>\n",
       "      <td>0.011759</td>\n",
       "      <td>0.999867</td>\n",
       "    </tr>\n",
       "    <tr>\n",
       "      <th>2nd</th>\n",
       "      <td>-0.013057</td>\n",
       "      <td>0.001897</td>\n",
       "      <td>-0.00708</td>\n",
       "      <td>0.018096</td>\n",
       "      <td>-0.168284</td>\n",
       "      <td>-0.985384</td>\n",
       "      <td>0.012120</td>\n",
       "    </tr>\n",
       "  </tbody>\n",
       "</table>\n",
       "</div>"
      ],
      "text/plain": [
       "     LevelOfTrust  ScanTimeInSeconds  TotalBasketValue  ScannedProducts  \\\n",
       "1st     -0.001364           0.000306           0.00272        -0.010662   \n",
       "2nd     -0.013057           0.001897          -0.00708         0.018096   \n",
       "\n",
       "     CountOfVoidedScans  ActivateWithoutScan  ModifiedQuantities  \n",
       "1st            0.002007             0.011759            0.999867  \n",
       "2nd           -0.168284            -0.985384            0.012120  "
      ]
     },
     "execution_count": 8,
     "metadata": {},
     "output_type": "execute_result"
    }
   ],
   "source": [
    "print('Components of the first two principal components')\n",
    "pd.DataFrame(pca.components_[:2], columns=df.columns, index=['1st', '2nd'])"
   ]
  },
  {
   "cell_type": "code",
   "execution_count": 9,
   "metadata": {},
   "outputs": [
    {
     "name": "stdout",
     "output_type": "stream",
     "text": [
      "[1 0 0 ... 2 1 0]\n"
     ]
    }
   ],
   "source": [
    "#Perform a k-means cluster analysis to derive a solution with 3 clusters. \n",
    "#For comparison use KMeans(n_clusters=3, random_state=100) to always get the same results.\n",
    "#Report the components of the cluster centers and the size of the clusters \n",
    "#(i.e. the number of data points assigned to each cluster)\n",
    "\n",
    "model = KMeans(n_clusters=3, random_state=100)\n",
    "model.fit(df_scaled)\n",
    "labels = model.predict(df_scaled)\n",
    "print(labels)\n"
   ]
  },
  {
   "cell_type": "code",
   "execution_count": 10,
   "metadata": {
    "scrolled": true
   },
   "outputs": [
    {
     "name": "stdout",
     "output_type": "stream",
     "text": [
      "Cluster centers\n"
     ]
    },
    {
     "data": {
      "text/html": [
       "<div>\n",
       "<style scoped>\n",
       "    .dataframe tbody tr th:only-of-type {\n",
       "        vertical-align: middle;\n",
       "    }\n",
       "\n",
       "    .dataframe tbody tr th {\n",
       "        vertical-align: top;\n",
       "    }\n",
       "\n",
       "    .dataframe thead th {\n",
       "        text-align: right;\n",
       "    }\n",
       "</style>\n",
       "<table border=\"1\" class=\"dataframe\">\n",
       "  <thead>\n",
       "    <tr style=\"text-align: right;\">\n",
       "      <th></th>\n",
       "      <th>LevelOfTrust</th>\n",
       "      <th>ScanTimeInSeconds</th>\n",
       "      <th>TotalBasketValue</th>\n",
       "      <th>ScannedProducts</th>\n",
       "      <th>CountOfVoidedScans</th>\n",
       "      <th>ActivateWithoutScan</th>\n",
       "      <th>ModifiedQuantities</th>\n",
       "    </tr>\n",
       "  </thead>\n",
       "  <tbody>\n",
       "    <tr>\n",
       "      <th>0</th>\n",
       "      <td>0.583484</td>\n",
       "      <td>0.476233</td>\n",
       "      <td>0.476842</td>\n",
       "      <td>0.514624</td>\n",
       "      <td>0.503496</td>\n",
       "      <td>0.502306</td>\n",
       "      <td>0.846643</td>\n",
       "    </tr>\n",
       "    <tr>\n",
       "      <th>1</th>\n",
       "      <td>0.585983</td>\n",
       "      <td>0.476453</td>\n",
       "      <td>0.476744</td>\n",
       "      <td>0.516873</td>\n",
       "      <td>0.521093</td>\n",
       "      <td>0.791409</td>\n",
       "      <td>0.260811</td>\n",
       "    </tr>\n",
       "    <tr>\n",
       "      <th>2</th>\n",
       "      <td>0.582773</td>\n",
       "      <td>0.476715</td>\n",
       "      <td>0.476150</td>\n",
       "      <td>0.516977</td>\n",
       "      <td>0.472939</td>\n",
       "      <td>0.207929</td>\n",
       "      <td>0.265392</td>\n",
       "    </tr>\n",
       "  </tbody>\n",
       "</table>\n",
       "</div>"
      ],
      "text/plain": [
       "   LevelOfTrust  ScanTimeInSeconds  TotalBasketValue  ScannedProducts  \\\n",
       "0      0.583484           0.476233          0.476842         0.514624   \n",
       "1      0.585983           0.476453          0.476744         0.516873   \n",
       "2      0.582773           0.476715          0.476150         0.516977   \n",
       "\n",
       "   CountOfVoidedScans  ActivateWithoutScan  ModifiedQuantities  \n",
       "0            0.503496             0.502306            0.846643  \n",
       "1            0.521093             0.791409            0.260811  \n",
       "2            0.472939             0.207929            0.265392  "
      ]
     },
     "execution_count": 10,
     "metadata": {},
     "output_type": "execute_result"
    }
   ],
   "source": [
    "centroids = model.cluster_centers_\n",
    "print('Cluster centers')\n",
    "pd.DataFrame(centroids, columns=df.columns)"
   ]
  },
  {
   "cell_type": "code",
   "execution_count": 11,
   "metadata": {
    "scrolled": false
   },
   "outputs": [
    {
     "data": {
      "text/html": [
       "<div>\n",
       "<style scoped>\n",
       "    .dataframe tbody tr th:only-of-type {\n",
       "        vertical-align: middle;\n",
       "    }\n",
       "\n",
       "    .dataframe tbody tr th {\n",
       "        vertical-align: top;\n",
       "    }\n",
       "\n",
       "    .dataframe thead th {\n",
       "        text-align: right;\n",
       "    }\n",
       "</style>\n",
       "<table border=\"1\" class=\"dataframe\">\n",
       "  <thead>\n",
       "    <tr style=\"text-align: right;\">\n",
       "      <th></th>\n",
       "      <th>Cluster Size</th>\n",
       "    </tr>\n",
       "  </thead>\n",
       "  <tbody>\n",
       "    <tr>\n",
       "      <th>0</th>\n",
       "      <td>121556</td>\n",
       "    </tr>\n",
       "    <tr>\n",
       "      <th>2</th>\n",
       "      <td>89542</td>\n",
       "    </tr>\n",
       "    <tr>\n",
       "      <th>1</th>\n",
       "      <td>88902</td>\n",
       "    </tr>\n",
       "  </tbody>\n",
       "</table>\n",
       "</div>"
      ],
      "text/plain": [
       "   Cluster Size\n",
       "0        121556\n",
       "2         89542\n",
       "1         88902"
      ]
     },
     "execution_count": 11,
     "metadata": {},
     "output_type": "execute_result"
    }
   ],
   "source": [
    "pd.Series(labels).value_counts().to_frame('Cluster Size')"
   ]
  },
  {
   "cell_type": "markdown",
   "metadata": {},
   "source": [
    "# Exercise 2 "
   ]
  },
  {
   "cell_type": "code",
   "execution_count": 90,
   "metadata": {},
   "outputs": [
    {
     "data": {
      "text/plain": [
       "14328"
      ]
     },
     "execution_count": 90,
     "metadata": {},
     "output_type": "execute_result"
    }
   ],
   "source": [
    "#Get an overview and understanding of the available data\n",
    "sum(y)"
   ]
  },
  {
   "cell_type": "markdown",
   "metadata": {},
   "source": [
    "Only 14328 out of 300000 are fraud - that is 4.776%.\n",
    "We should get a similar percentage in the scoring data, assuming they have the same distibution"
   ]
  },
  {
   "cell_type": "code",
   "execution_count": 91,
   "metadata": {},
   "outputs": [],
   "source": [
    "#Clean the data if necessary and derive new “smart” variables\n",
    "#(e.g. scale the data or compute ratios of given variables) that can be used for the predictions"
   ]
  },
  {
   "cell_type": "markdown",
   "metadata": {},
   "source": [
    "We use the scaled DataFrame from exercise 1"
   ]
  },
  {
   "cell_type": "code",
   "execution_count": 92,
   "metadata": {},
   "outputs": [],
   "source": [
    "X_train_val, X_test, y_train_val, y_test = train_test_split(df_scaled, y, random_state=4, stratify=y, test_size=0.1)\n",
    "X_train, X_val, y_train, y_val = train_test_split(X_train_val, y_train_val, random_state=40, stratify=y_train_val)"
   ]
  },
  {
   "cell_type": "code",
   "execution_count": 93,
   "metadata": {},
   "outputs": [],
   "source": [
    "#Determine which characteristics are key characteristics as they are driving fraudulent behavior"
   ]
  },
  {
   "cell_type": "code",
   "execution_count": 94,
   "metadata": {
    "scrolled": true
   },
   "outputs": [
    {
     "data": {
      "image/png": "[encoded data removed]",
      "text/plain": [
       "<Figure size 720x720 with 1 Axes>"
      ]
     },
     "metadata": {
      "needs_background": "light"
     },
     "output_type": "display_data"
    }
   ],
   "source": [
    "clf = DecisionTreeClassifier(random_state=40)\n",
    "clf.fit(X_train, y_train)\n",
    "plt.figure(figsize=(10,10))\n",
    "plt.barh(width=clf.feature_importances_,y=X_train_val.columns.values)\n",
    "plt.show()"
   ]
  },
  {
   "cell_type": "markdown",
   "metadata": {},
   "source": [
    "As we can see, if we fit a Decision Tree Classifier, the features with more importance are: ScannedProducts, LevelOfTrust and ScanTimeInSeconds"
   ]
  },
  {
   "cell_type": "code",
   "execution_count": 95,
   "metadata": {},
   "outputs": [],
   "source": [
    "#Use the appropriate classification algorithms you are familiar with and make predictions. \n",
    "#If necessary, tune the parameters of the model"
   ]
  },
  {
   "cell_type": "markdown",
   "metadata": {},
   "source": [
    "We try two different models: Logistic Regression and Random Forest"
   ]
  },
  {
   "cell_type": "code",
   "execution_count": 96,
   "metadata": {},
   "outputs": [
    {
     "name": "stdout",
     "output_type": "stream",
     "text": [
      "Accuracy on training set: 0.99108\n",
      "Accuracy on validation set: 0.99092\n",
      "f1 score on training set: 0.90503\n",
      "f1 score on validation set: 0.90305\n"
     ]
    }
   ],
   "source": [
    "logreg = LogisticRegression(max_iter=100)\n",
    "logreg.fit(X_train, y_train)\n",
    "print(\"Accuracy on training set: {:.5f}\".format(logreg.score(X_train, y_train)))\n",
    "print(\"Accuracy on validation set: {:.5f}\".format(logreg.score(X_val, y_val)))\n",
    "y_pred_train = logreg.predict(X_train)\n",
    "print(\"f1 score on training set: {:.5f}\".format(f1_score(y_train, y_pred_train)))\n",
    "y_pred_val = logreg.predict(X_val)\n",
    "print(\"f1 score on validation set: {:.5f}\".format(f1_score(y_val, y_pred_val)))"
   ]
  },
  {
   "cell_type": "code",
   "execution_count": 97,
   "metadata": {},
   "outputs": [
    {
     "name": "stdout",
     "output_type": "stream",
     "text": [
      "[0.90299685 0.90616941 0.90539206 0.89561091 0.90702236]\n"
     ]
    },
    {
     "data": {
      "text/plain": [
       "0.9034383182830974"
      ]
     },
     "execution_count": 97,
     "metadata": {},
     "output_type": "execute_result"
    }
   ],
   "source": [
    "cv_scores = cross_val_score(logreg, X_train_val, y_train_val, cv=5, scoring='f1')\n",
    "print(cv_scores)\n",
    "np.mean(cv_scores)"
   ]
  },
  {
   "cell_type": "code",
   "execution_count": 98,
   "metadata": {},
   "outputs": [
    {
     "name": "stdout",
     "output_type": "stream",
     "text": [
      "Accuracy on training set: 0.987\n",
      "Accuracy on test set: 0.987\n",
      "f1 score on training set: 0.86298\n",
      "f1 score on validation set: 0.86416\n"
     ]
    }
   ],
   "source": [
    "forest = RandomForestClassifier(n_estimators=50, max_depth=5, max_features=5, random_state=30, n_jobs=-1)\n",
    "forest.fit(X_train, y_train)\n",
    "print(\"Accuracy on training set: {:.3f}\".format(forest.score(X_train, y_train)))\n",
    "print(\"Accuracy on test set: {:.3f}\".format(forest.score(X_val, y_val)))\n",
    "y_pred_train = forest.predict(X_train)\n",
    "print(\"f1 score on training set: {:.5f}\".format(f1_score(y_train, y_pred_train)))\n",
    "y_pred_val = forest.predict(X_val)\n",
    "print(\"f1 score on validation set: {:.5f}\".format(f1_score(y_val, y_pred_val)))"
   ]
  },
  {
   "cell_type": "code",
   "execution_count": 99,
   "metadata": {},
   "outputs": [
    {
     "name": "stdout",
     "output_type": "stream",
     "text": [
      "[0.84091841 0.84892086 0.85485855 0.84623281 0.84598349]\n"
     ]
    },
    {
     "data": {
      "text/plain": [
       "0.8473828237050111"
      ]
     },
     "execution_count": 99,
     "metadata": {},
     "output_type": "execute_result"
    }
   ],
   "source": [
    "cv_scores = cross_val_score(forest, X_train_val, y_train_val, cv=5, scoring='f1')\n",
    "print(cv_scores)\n",
    "np.mean(cv_scores)"
   ]
  },
  {
   "cell_type": "markdown",
   "metadata": {},
   "source": [
    "We can see that the Logistic Regression performs better, so we will do a gridsearch to find the best value for C, the inverse of regularization strength"
   ]
  },
  {
   "cell_type": "code",
   "execution_count": 100,
   "metadata": {},
   "outputs": [
    {
     "data": {
      "text/plain": [
       "array([1.e-05, 1.e-04, 1.e-03, 1.e-02, 1.e-01, 1.e+00, 1.e+01, 1.e+02,\n",
       "       1.e+03, 1.e+04, 1.e+05])"
      ]
     },
     "execution_count": 100,
     "metadata": {},
     "output_type": "execute_result"
    }
   ],
   "source": [
    "c_space = np.logspace(-5, 5, 11)\n",
    "c_space"
   ]
  },
  {
   "cell_type": "code",
   "execution_count": 101,
   "metadata": {},
   "outputs": [
    {
     "name": "stdout",
     "output_type": "stream",
     "text": [
      "Tuned Logistic Regression Parameters: {'C': 100.0}\n",
      "Best score is 0.9063409895170171\n"
     ]
    }
   ],
   "source": [
    "param_grid = {'C': c_space}\n",
    "logreg2 = LogisticRegression()\n",
    "logreg_cv = GridSearchCV(logreg2, param_grid, cv=5, scoring='f1')\n",
    "logreg_cv.fit(X_train_val, y_train_val)\n",
    "\n",
    "print(\"Tuned Logistic Regression Parameters: {}\".format(logreg_cv.best_params_)) \n",
    "print(\"Best score is {}\".format(logreg_cv.best_score_))"
   ]
  },
  {
   "cell_type": "code",
   "execution_count": 102,
   "metadata": {
    "scrolled": true
   },
   "outputs": [],
   "source": [
    "best_logreg = logreg_cv.best_estimator_"
   ]
  },
  {
   "cell_type": "code",
   "execution_count": 103,
   "metadata": {},
   "outputs": [],
   "source": [
    "#Measure the quality of the model or compare the quality of the models and choose a final model"
   ]
  },
  {
   "cell_type": "markdown",
   "metadata": {},
   "source": [
    "Let's compare the confusion matrix for the Logistic Regression with the default value of C, and the one we found doing the gridsearch"
   ]
  },
  {
   "cell_type": "code",
   "execution_count": 104,
   "metadata": {},
   "outputs": [
    {
     "name": "stdout",
     "output_type": "stream",
     "text": [
      "Confusion Matrix for the Logistic Regression with the default value of C (C=1)\n",
      "[[64032   244]\n",
      " [  369  2855]]\n"
     ]
    }
   ],
   "source": [
    "print('Confusion Matrix for the Logistic Regression with the default value of C (C=1)')\n",
    "print(confusion_matrix(y_val, logreg.predict(X_val)))"
   ]
  },
  {
   "cell_type": "code",
   "execution_count": 105,
   "metadata": {
    "scrolled": true
   },
   "outputs": [
    {
     "name": "stdout",
     "output_type": "stream",
     "text": [
      "Confusion Matrix for the Logistic Regression with the value of C from the gridsearch (C=100)\n",
      "[[64003   273]\n",
      " [  328  2896]]\n"
     ]
    }
   ],
   "source": [
    "print('Confusion Matrix for the Logistic Regression with the value of C from the gridsearch (C=100)')\n",
    "print(confusion_matrix(y_val, best_logreg.predict(X_val)))"
   ]
  },
  {
   "cell_type": "markdown",
   "metadata": {},
   "source": [
    "So, although with C=100 we get a higher F1 score, in this particular case we are interested in minimizing the false positives, since they are penalized with a loss of 25 EUR for the supermarket. And we can see that with C=100 we get a higher number of false positives than with C=1. Therefore we're going to define our own metric, based on the gains and losses for each case and use gridsearch again to find the C that maximizes that metric"
   ]
  },
  {
   "cell_type": "code",
   "execution_count": 106,
   "metadata": {},
   "outputs": [],
   "source": [
    "#Use statistical key figures, but especially the total costs or the total revenue"
   ]
  },
  {
   "cell_type": "code",
   "execution_count": 107,
   "metadata": {},
   "outputs": [],
   "source": [
    "def revenue(y_true, y_pred):\n",
    "    M = confusion_matrix(y_true, y_pred)\n",
    "    return (M[0,1]*(-25) + M[1,0]*(-5) + M[1,1]*(5))/(M[0,0] + M[0,1] + M[1,0] + M[1,1])\n",
    "\n",
    "revenue_scorer = make_scorer(revenue)"
   ]
  },
  {
   "cell_type": "code",
   "execution_count": 108,
   "metadata": {},
   "outputs": [
    {
     "name": "stdout",
     "output_type": "stream",
     "text": [
      "If we didn't make any prediction mistakes, the score with this new metric would be: 0.23879629629629628\n"
     ]
    }
   ],
   "source": [
    "print(\"If we didn't make any prediction mistakes, the score with this new metric would be:\", revenue(y_train_val, y_train_val))"
   ]
  },
  {
   "cell_type": "code",
   "execution_count": 109,
   "metadata": {},
   "outputs": [
    {
     "name": "stdout",
     "output_type": "stream",
     "text": [
      "Tuned Logistic Regression Parameters: {'C': 0.1}\n",
      "Best score is 0.10564814814814816\n"
     ]
    }
   ],
   "source": [
    "c_space = np.logspace(-5, 5, 11)\n",
    "param_grid = {'C': c_space}\n",
    "\n",
    "logreg3 = LogisticRegression()\n",
    "logreg_cv_custom = GridSearchCV(logreg3, param_grid, cv=5, scoring=revenue_scorer)\n",
    "logreg_cv_custom.fit(X_train_val, y_train_val)\n",
    "\n",
    "# Print the tuned parameters and score\n",
    "print(\"Tuned Logistic Regression Parameters: {}\".format(logreg_cv_custom.best_params_)) \n",
    "print(\"Best score is {}\".format(logreg_cv_custom.best_score_))"
   ]
  },
  {
   "cell_type": "code",
   "execution_count": 110,
   "metadata": {},
   "outputs": [],
   "source": [
    "best_logreg_custom = logreg_cv_custom.best_estimator_"
   ]
  },
  {
   "cell_type": "markdown",
   "metadata": {},
   "source": [
    "Results on the test set:"
   ]
  },
  {
   "cell_type": "code",
   "execution_count": 111,
   "metadata": {},
   "outputs": [
    {
     "data": {
      "text/html": [
       "<div>\n",
       "<style scoped>\n",
       "    .dataframe tbody tr th:only-of-type {\n",
       "        vertical-align: middle;\n",
       "    }\n",
       "\n",
       "    .dataframe tbody tr th {\n",
       "        vertical-align: top;\n",
       "    }\n",
       "\n",
       "    .dataframe thead th {\n",
       "        text-align: right;\n",
       "    }\n",
       "</style>\n",
       "<table border=\"1\" class=\"dataframe\">\n",
       "  <thead>\n",
       "    <tr style=\"text-align: right;\">\n",
       "      <th></th>\n",
       "      <th>C=100</th>\n",
       "      <th>C=0.1</th>\n",
       "    </tr>\n",
       "  </thead>\n",
       "  <tbody>\n",
       "    <tr>\n",
       "      <th>F1</th>\n",
       "      <td>0.911994</td>\n",
       "      <td>0.883234</td>\n",
       "    </tr>\n",
       "    <tr>\n",
       "      <th>Revenue</th>\n",
       "      <td>0.106167</td>\n",
       "      <td>0.105333</td>\n",
       "    </tr>\n",
       "  </tbody>\n",
       "</table>\n",
       "</div>"
      ],
      "text/plain": [
       "            C=100     C=0.1\n",
       "F1       0.911994  0.883234\n",
       "Revenue  0.106167  0.105333"
      ]
     },
     "execution_count": 111,
     "metadata": {},
     "output_type": "execute_result"
    }
   ],
   "source": [
    "M = [[f1_score(y_test, best_logreg.predict(X_test)), f1_score(y_test, best_logreg_custom.predict(X_test))],\n",
    "     [revenue(y_test, best_logreg.predict(X_test)), revenue(y_test, best_logreg_custom.predict(X_test))]]\n",
    "pd.DataFrame(M, columns=['C=100', 'C=0.1'], index=['F1', 'Revenue'])"
   ]
  },
  {
   "cell_type": "code",
   "execution_count": 112,
   "metadata": {
    "scrolled": true
   },
   "outputs": [
    {
     "data": {
      "text/html": [
       "<div>\n",
       "<style scoped>\n",
       "    .dataframe tbody tr th:only-of-type {\n",
       "        vertical-align: middle;\n",
       "    }\n",
       "\n",
       "    .dataframe tbody tr th {\n",
       "        vertical-align: top;\n",
       "    }\n",
       "\n",
       "    .dataframe thead th {\n",
       "        text-align: right;\n",
       "    }\n",
       "</style>\n",
       "<table border=\"1\" class=\"dataframe\">\n",
       "  <thead>\n",
       "    <tr style=\"text-align: right;\">\n",
       "      <th></th>\n",
       "      <th>LevelOfTrust</th>\n",
       "      <th>ScanTimeInSeconds</th>\n",
       "      <th>TotalBasketValue</th>\n",
       "      <th>ScannedProducts</th>\n",
       "      <th>CountOfVoidedScans</th>\n",
       "      <th>ActivateWithoutScan</th>\n",
       "      <th>ModifiedQuantities</th>\n",
       "    </tr>\n",
       "  </thead>\n",
       "  <tbody>\n",
       "    <tr>\n",
       "      <th>0</th>\n",
       "      <td>2</td>\n",
       "      <td>202</td>\n",
       "      <td>76.39</td>\n",
       "      <td>16</td>\n",
       "      <td>10</td>\n",
       "      <td>0</td>\n",
       "      <td>5</td>\n",
       "    </tr>\n",
       "    <tr>\n",
       "      <th>1</th>\n",
       "      <td>3</td>\n",
       "      <td>165</td>\n",
       "      <td>3.55</td>\n",
       "      <td>9</td>\n",
       "      <td>3</td>\n",
       "      <td>8</td>\n",
       "      <td>3</td>\n",
       "    </tr>\n",
       "    <tr>\n",
       "      <th>2</th>\n",
       "      <td>3</td>\n",
       "      <td>1601</td>\n",
       "      <td>57.11</td>\n",
       "      <td>6</td>\n",
       "      <td>1</td>\n",
       "      <td>6</td>\n",
       "      <td>4</td>\n",
       "    </tr>\n",
       "    <tr>\n",
       "      <th>3</th>\n",
       "      <td>3</td>\n",
       "      <td>571</td>\n",
       "      <td>22.73</td>\n",
       "      <td>14</td>\n",
       "      <td>4</td>\n",
       "      <td>7</td>\n",
       "      <td>4</td>\n",
       "    </tr>\n",
       "    <tr>\n",
       "      <th>4</th>\n",
       "      <td>6</td>\n",
       "      <td>288</td>\n",
       "      <td>53.36</td>\n",
       "      <td>3</td>\n",
       "      <td>5</td>\n",
       "      <td>1</td>\n",
       "      <td>3</td>\n",
       "    </tr>\n",
       "    <tr>\n",
       "      <th>...</th>\n",
       "      <td>...</td>\n",
       "      <td>...</td>\n",
       "      <td>...</td>\n",
       "      <td>...</td>\n",
       "      <td>...</td>\n",
       "      <td>...</td>\n",
       "      <td>...</td>\n",
       "    </tr>\n",
       "    <tr>\n",
       "      <th>99995</th>\n",
       "      <td>1</td>\n",
       "      <td>1142</td>\n",
       "      <td>2.36</td>\n",
       "      <td>11</td>\n",
       "      <td>3</td>\n",
       "      <td>7</td>\n",
       "      <td>1</td>\n",
       "    </tr>\n",
       "    <tr>\n",
       "      <th>99996</th>\n",
       "      <td>5</td>\n",
       "      <td>1276</td>\n",
       "      <td>34.76</td>\n",
       "      <td>7</td>\n",
       "      <td>6</td>\n",
       "      <td>2</td>\n",
       "      <td>4</td>\n",
       "    </tr>\n",
       "    <tr>\n",
       "      <th>99997</th>\n",
       "      <td>4</td>\n",
       "      <td>540</td>\n",
       "      <td>52.79</td>\n",
       "      <td>12</td>\n",
       "      <td>10</td>\n",
       "      <td>0</td>\n",
       "      <td>5</td>\n",
       "    </tr>\n",
       "    <tr>\n",
       "      <th>99998</th>\n",
       "      <td>3</td>\n",
       "      <td>1195</td>\n",
       "      <td>39.40</td>\n",
       "      <td>24</td>\n",
       "      <td>0</td>\n",
       "      <td>0</td>\n",
       "      <td>2</td>\n",
       "    </tr>\n",
       "    <tr>\n",
       "      <th>99999</th>\n",
       "      <td>6</td>\n",
       "      <td>462</td>\n",
       "      <td>72.60</td>\n",
       "      <td>19</td>\n",
       "      <td>11</td>\n",
       "      <td>10</td>\n",
       "      <td>1</td>\n",
       "    </tr>\n",
       "  </tbody>\n",
       "</table>\n",
       "<p>100000 rows × 7 columns</p>\n",
       "</div>"
      ],
      "text/plain": [
       "       LevelOfTrust  ScanTimeInSeconds  TotalBasketValue  ScannedProducts  \\\n",
       "0                 2                202             76.39               16   \n",
       "1                 3                165              3.55                9   \n",
       "2                 3               1601             57.11                6   \n",
       "3                 3                571             22.73               14   \n",
       "4                 6                288             53.36                3   \n",
       "...             ...                ...               ...              ...   \n",
       "99995             1               1142              2.36               11   \n",
       "99996             5               1276             34.76                7   \n",
       "99997             4                540             52.79               12   \n",
       "99998             3               1195             39.40               24   \n",
       "99999             6                462             72.60               19   \n",
       "\n",
       "       CountOfVoidedScans  ActivateWithoutScan  ModifiedQuantities  \n",
       "0                      10                    0                   5  \n",
       "1                       3                    8                   3  \n",
       "2                       1                    6                   4  \n",
       "3                       4                    7                   4  \n",
       "4                       5                    1                   3  \n",
       "...                   ...                  ...                 ...  \n",
       "99995                   3                    7                   1  \n",
       "99996                   6                    2                   4  \n",
       "99997                  10                    0                   5  \n",
       "99998                   0                    0                   2  \n",
       "99999                  11                   10                   1  \n",
       "\n",
       "[100000 rows x 7 columns]"
      ]
     },
     "execution_count": 112,
     "metadata": {},
     "output_type": "execute_result"
    }
   ],
   "source": [
    "#Hand-in your fraud predictions (0/1) for each of the 100,000 cases of the scoring dataset\n",
    "scoring = pd.read_csv('W06_scoring.txt', delimiter=\";\")\n",
    "scoring"
   ]
  },
  {
   "cell_type": "code",
   "execution_count": 113,
   "metadata": {},
   "outputs": [
    {
     "data": {
      "text/html": [
       "<div>\n",
       "<style scoped>\n",
       "    .dataframe tbody tr th:only-of-type {\n",
       "        vertical-align: middle;\n",
       "    }\n",
       "\n",
       "    .dataframe tbody tr th {\n",
       "        vertical-align: top;\n",
       "    }\n",
       "\n",
       "    .dataframe thead th {\n",
       "        text-align: right;\n",
       "    }\n",
       "</style>\n",
       "<table border=\"1\" class=\"dataframe\">\n",
       "  <thead>\n",
       "    <tr style=\"text-align: right;\">\n",
       "      <th></th>\n",
       "      <th>LevelOfTrust</th>\n",
       "      <th>ScanTimeInSeconds</th>\n",
       "      <th>TotalBasketValue</th>\n",
       "      <th>ScannedProducts</th>\n",
       "      <th>CountOfVoidedScans</th>\n",
       "      <th>ActivateWithoutScan</th>\n",
       "      <th>ModifiedQuantities</th>\n",
       "    </tr>\n",
       "  </thead>\n",
       "  <tbody>\n",
       "    <tr>\n",
       "      <th>0</th>\n",
       "      <td>0.333333</td>\n",
       "      <td>0.105208</td>\n",
       "      <td>0.728495</td>\n",
       "      <td>0.533333</td>\n",
       "      <td>0.909091</td>\n",
       "      <td>0.0</td>\n",
       "      <td>1.0</td>\n",
       "    </tr>\n",
       "    <tr>\n",
       "      <th>1</th>\n",
       "      <td>0.500000</td>\n",
       "      <td>0.085938</td>\n",
       "      <td>0.033855</td>\n",
       "      <td>0.300000</td>\n",
       "      <td>0.272727</td>\n",
       "      <td>0.8</td>\n",
       "      <td>0.6</td>\n",
       "    </tr>\n",
       "    <tr>\n",
       "      <th>2</th>\n",
       "      <td>0.500000</td>\n",
       "      <td>0.833854</td>\n",
       "      <td>0.544631</td>\n",
       "      <td>0.200000</td>\n",
       "      <td>0.090909</td>\n",
       "      <td>0.6</td>\n",
       "      <td>0.8</td>\n",
       "    </tr>\n",
       "    <tr>\n",
       "      <th>3</th>\n",
       "      <td>0.500000</td>\n",
       "      <td>0.297396</td>\n",
       "      <td>0.216765</td>\n",
       "      <td>0.466667</td>\n",
       "      <td>0.363636</td>\n",
       "      <td>0.7</td>\n",
       "      <td>0.8</td>\n",
       "    </tr>\n",
       "    <tr>\n",
       "      <th>4</th>\n",
       "      <td>1.000000</td>\n",
       "      <td>0.150000</td>\n",
       "      <td>0.508869</td>\n",
       "      <td>0.100000</td>\n",
       "      <td>0.454545</td>\n",
       "      <td>0.1</td>\n",
       "      <td>0.6</td>\n",
       "    </tr>\n",
       "    <tr>\n",
       "      <th>...</th>\n",
       "      <td>...</td>\n",
       "      <td>...</td>\n",
       "      <td>...</td>\n",
       "      <td>...</td>\n",
       "      <td>...</td>\n",
       "      <td>...</td>\n",
       "      <td>...</td>\n",
       "    </tr>\n",
       "    <tr>\n",
       "      <th>99995</th>\n",
       "      <td>0.166667</td>\n",
       "      <td>0.594792</td>\n",
       "      <td>0.022506</td>\n",
       "      <td>0.366667</td>\n",
       "      <td>0.272727</td>\n",
       "      <td>0.7</td>\n",
       "      <td>0.2</td>\n",
       "    </tr>\n",
       "    <tr>\n",
       "      <th>99996</th>\n",
       "      <td>0.833333</td>\n",
       "      <td>0.664583</td>\n",
       "      <td>0.331490</td>\n",
       "      <td>0.233333</td>\n",
       "      <td>0.545455</td>\n",
       "      <td>0.2</td>\n",
       "      <td>0.8</td>\n",
       "    </tr>\n",
       "    <tr>\n",
       "      <th>99997</th>\n",
       "      <td>0.666667</td>\n",
       "      <td>0.281250</td>\n",
       "      <td>0.503433</td>\n",
       "      <td>0.400000</td>\n",
       "      <td>0.909091</td>\n",
       "      <td>0.0</td>\n",
       "      <td>1.0</td>\n",
       "    </tr>\n",
       "    <tr>\n",
       "      <th>99998</th>\n",
       "      <td>0.500000</td>\n",
       "      <td>0.622396</td>\n",
       "      <td>0.375739</td>\n",
       "      <td>0.800000</td>\n",
       "      <td>0.000000</td>\n",
       "      <td>0.0</td>\n",
       "      <td>0.4</td>\n",
       "    </tr>\n",
       "    <tr>\n",
       "      <th>99999</th>\n",
       "      <td>1.000000</td>\n",
       "      <td>0.240625</td>\n",
       "      <td>0.692352</td>\n",
       "      <td>0.633333</td>\n",
       "      <td>1.000000</td>\n",
       "      <td>1.0</td>\n",
       "      <td>0.2</td>\n",
       "    </tr>\n",
       "  </tbody>\n",
       "</table>\n",
       "<p>100000 rows × 7 columns</p>\n",
       "</div>"
      ],
      "text/plain": [
       "       LevelOfTrust  ScanTimeInSeconds  TotalBasketValue  ScannedProducts  \\\n",
       "0          0.333333           0.105208          0.728495         0.533333   \n",
       "1          0.500000           0.085938          0.033855         0.300000   \n",
       "2          0.500000           0.833854          0.544631         0.200000   \n",
       "3          0.500000           0.297396          0.216765         0.466667   \n",
       "4          1.000000           0.150000          0.508869         0.100000   \n",
       "...             ...                ...               ...              ...   \n",
       "99995      0.166667           0.594792          0.022506         0.366667   \n",
       "99996      0.833333           0.664583          0.331490         0.233333   \n",
       "99997      0.666667           0.281250          0.503433         0.400000   \n",
       "99998      0.500000           0.622396          0.375739         0.800000   \n",
       "99999      1.000000           0.240625          0.692352         0.633333   \n",
       "\n",
       "       CountOfVoidedScans  ActivateWithoutScan  ModifiedQuantities  \n",
       "0                0.909091                  0.0                 1.0  \n",
       "1                0.272727                  0.8                 0.6  \n",
       "2                0.090909                  0.6                 0.8  \n",
       "3                0.363636                  0.7                 0.8  \n",
       "4                0.454545                  0.1                 0.6  \n",
       "...                   ...                  ...                 ...  \n",
       "99995            0.272727                  0.7                 0.2  \n",
       "99996            0.545455                  0.2                 0.8  \n",
       "99997            0.909091                  0.0                 1.0  \n",
       "99998            0.000000                  0.0                 0.4  \n",
       "99999            1.000000                  1.0                 0.2  \n",
       "\n",
       "[100000 rows x 7 columns]"
      ]
     },
     "execution_count": 113,
     "metadata": {},
     "output_type": "execute_result"
    }
   ],
   "source": [
    "scoring_scaled = scoring.apply(lambda x: x / x.max())\n",
    "scoring_scaled"
   ]
  },
  {
   "cell_type": "code",
   "execution_count": 114,
   "metadata": {},
   "outputs": [
    {
     "data": {
      "text/plain": [
       "4194"
      ]
     },
     "execution_count": 114,
     "metadata": {},
     "output_type": "execute_result"
    }
   ],
   "source": [
    "fraud_prediction = best_logreg_custom.predict(scoring_scaled)\n",
    "sum(fraud_prediction)"
   ]
  },
  {
   "cell_type": "markdown",
   "metadata": {},
   "source": [
    "**Observation**: The number of incorrect labeled samples is probably a bit higher using C=0.1 than C=100, but we decided to optimize the revenue and not the F1 score."
   ]
  },
  {
   "cell_type": "code",
   "execution_count": 115,
   "metadata": {},
   "outputs": [
    {
     "data": {
      "text/plain": [
       "array([0, 0, 0, ..., 0, 0, 0], dtype=int64)"
      ]
     },
     "execution_count": 115,
     "metadata": {},
     "output_type": "execute_result"
    }
   ],
   "source": [
    "fraud_prediction"
   ]
  }
 ],
 "metadata": {
  "kernelspec": {
   "display_name": "Python 3",
   "language": "python",
   "name": "python3"
  },
  "language_info": {
   "codemirror_mode": {
    "name": "ipython",
    "version": 3
   },
   "file_extension": ".py",
   "mimetype": "text/x-python",
   "name": "python",
   "nbconvert_exporter": "python",
   "pygments_lexer": "ipython3",
   "version": "3.8.8"
  }
 },
 "nbformat": 4,
 "nbformat_minor": 4
}
